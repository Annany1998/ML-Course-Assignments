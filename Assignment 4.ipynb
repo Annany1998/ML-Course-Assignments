{
 "cells": [
  {
   "cell_type": "code",
   "execution_count": null,
   "metadata": {},
   "outputs": [],
   "source": [
    "# 1.1"
   ]
  },
  {
   "cell_type": "code",
   "execution_count": 19,
   "metadata": {},
   "outputs": [
    {
     "name": "stdout",
     "output_type": "stream",
     "text": [
      "72.61843774138907\n"
     ]
    }
   ],
   "source": [
    "class triangle:\n",
    "    def __init__(self,a,b,c):\n",
    "        self.a=a\n",
    "        self.b=b\n",
    "        self.c=c\n",
    "class area(triangle):\n",
    "      \n",
    "    def art (self):\n",
    "        s=(self.a+self.b+self.c)/2\n",
    "        ar=(s*(s-self.a)*(s-self.b)*(s-self.c)) ** 0.5\n",
    "        return ar\n",
    "a2=area(10,15,20)\n",
    "print(a2.art())"
   ]
  },
  {
   "cell_type": "code",
   "execution_count": null,
   "metadata": {},
   "outputs": [],
   "source": []
  },
  {
   "cell_type": "code",
   "execution_count": null,
   "metadata": {},
   "outputs": [],
   "source": [
    "# 1.2"
   ]
  },
  {
   "cell_type": "code",
   "execution_count": 20,
   "metadata": {},
   "outputs": [
    {
     "name": "stdout",
     "output_type": "stream",
     "text": [
      "['blue', 'yellow', 'pink']\n"
     ]
    }
   ],
   "source": [
    "temp=list()\n",
    "lst=list()\n",
    "def filter_long_words(lst,n):\n",
    "    for i in range(0,len(lst)):\n",
    "        if len(lst[i])>n:\n",
    "            temp.append(lst[i])\n",
    "    return temp\n",
    "s=filter_long_words(['red','blue','yellow','pink'],3)\n",
    "print(s)\n",
    "        "
   ]
  },
  {
   "cell_type": "code",
   "execution_count": null,
   "metadata": {},
   "outputs": [],
   "source": []
  },
  {
   "cell_type": "code",
   "execution_count": null,
   "metadata": {},
   "outputs": [],
   "source": [
    "# 2.1"
   ]
  },
  {
   "cell_type": "code",
   "execution_count": 4,
   "metadata": {},
   "outputs": [
    {
     "name": "stdout",
     "output_type": "stream",
     "text": [
      "[2, 3, 4]\n"
     ]
    }
   ],
   "source": [
    "def count(lst):\n",
    "    temp=[]\n",
    "    for i in range(0,len(lst)):\n",
    "        b=len(lst[i])\n",
    "        temp.append(b)\n",
    "    return temp\n",
    "s=['ab','cde','erty']\n",
    "c=count(s)\n",
    "print(c)\n"
   ]
  },
  {
   "cell_type": "code",
   "execution_count": null,
   "metadata": {},
   "outputs": [],
   "source": []
  },
  {
   "cell_type": "code",
   "execution_count": null,
   "metadata": {},
   "outputs": [],
   "source": [
    "# 2.2"
   ]
  },
  {
   "cell_type": "code",
   "execution_count": 6,
   "metadata": {},
   "outputs": [
    {
     "name": "stdout",
     "output_type": "stream",
     "text": [
      "True\n"
     ]
    }
   ],
   "source": [
    "def alpha(c):\n",
    "    d=c.upper()\n",
    "    if d=='A'or d=='E' or d=='I' or d=='O' or d=='U':\n",
    "        return True\n",
    "    else:\n",
    "        return False\n",
    "s=alpha('O')\n",
    "print(s)"
   ]
  }
 ],
 "metadata": {
  "kernelspec": {
   "display_name": "Python 3",
   "language": "python",
   "name": "python3"
  },
  "language_info": {
   "codemirror_mode": {
    "name": "ipython",
    "version": 3
   },
   "file_extension": ".py",
   "mimetype": "text/x-python",
   "name": "python",
   "nbconvert_exporter": "python",
   "pygments_lexer": "ipython3",
   "version": "3.8.3"
  }
 },
 "nbformat": 4,
 "nbformat_minor": 4
}
